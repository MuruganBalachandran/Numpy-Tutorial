{
  "cells": [
    {
      "cell_type": "markdown",
      "metadata": {
        "id": "Ipv7DPYXDwYc"
      },
      "source": [
        "\n",
        "**Creating numpy arrays**\n"
      ]
    },
    {
      "cell_type": "code",
      "execution_count": 85,
      "metadata": {
        "colab": {
          "base_uri": "https://localhost:8080/"
        },
        "id": "RM4UCfKaB4SN",
        "outputId": "609b4644-4efa-43e9-92c5-e5bf4b5f1696"
      },
      "outputs": [
        {
          "data": {
            "text/plain": [
              "array([1, 2, 3], dtype=int32)"
            ]
          },
          "execution_count": 85,
          "metadata": {},
          "output_type": "execute_result"
        }
      ],
      "source": [
        "\n",
        "# Creating an integer array with explicit dtype, which is not necessary.\n",
        "import numpy as murugan\n",
        "int_array = murugan.array([1, 2, 3], dtype=murugan.int32)\n",
        "int_array\n"
      ]
    },
    {
      "cell_type": "code",
      "execution_count": 87,
      "metadata": {
        "colab": {
          "base_uri": "https://localhost:8080/"
        },
        "id": "YHA5AwEBCxcl",
        "outputId": "84ffaf49-3415-449a-952c-e842e89dfda7"
      },
      "outputs": [
        {
          "data": {
            "text/plain": [
              "array([[[1, 2],\n",
              "        [3, 4]],\n",
              "\n",
              "       [[5, 6],\n",
              "        [7, 8]]])"
            ]
          },
          "execution_count": 87,
          "metadata": {},
          "output_type": "execute_result"
        }
      ],
      "source": [
        "\n",
        "# Creating a 3D array (Tensor) # Dimension: 3 , Shape: (2, 2, 2)\n",
        "arr_3d = murugan.array([[[1, 2], [3, 4]], [[5, 6], [7, 8]]])\n",
        "arr_3d"
      ]
    },
    {
      "cell_type": "code",
      "execution_count": 88,
      "metadata": {
        "colab": {
          "base_uri": "https://localhost:8080/"
        },
        "id": "N1Wx_tMkDWoB",
        "outputId": "6c8b3ec0-9711-44bb-9e5d-407625ffd5d6"
      },
      "outputs": [
        {
          "data": {
            "text/plain": [
              "array([0.        , 0.01010101, 0.02020202, 0.03030303, 0.04040404,\n",
              "       0.05050505, 0.06060606, 0.07070707, 0.08080808, 0.09090909,\n",
              "       0.1010101 , 0.11111111, 0.12121212, 0.13131313, 0.14141414,\n",
              "       0.15151515, 0.16161616, 0.17171717, 0.18181818, 0.19191919,\n",
              "       0.2020202 , 0.21212121, 0.22222222, 0.23232323, 0.24242424,\n",
              "       0.25252525, 0.26262626, 0.27272727, 0.28282828, 0.29292929,\n",
              "       0.3030303 , 0.31313131, 0.32323232, 0.33333333, 0.34343434,\n",
              "       0.35353535, 0.36363636, 0.37373737, 0.38383838, 0.39393939,\n",
              "       0.4040404 , 0.41414141, 0.42424242, 0.43434343, 0.44444444,\n",
              "       0.45454545, 0.46464646, 0.47474747, 0.48484848, 0.49494949,\n",
              "       0.50505051, 0.51515152, 0.52525253, 0.53535354, 0.54545455,\n",
              "       0.55555556, 0.56565657, 0.57575758, 0.58585859, 0.5959596 ,\n",
              "       0.60606061, 0.61616162, 0.62626263, 0.63636364, 0.64646465,\n",
              "       0.65656566, 0.66666667, 0.67676768, 0.68686869, 0.6969697 ,\n",
              "       0.70707071, 0.71717172, 0.72727273, 0.73737374, 0.74747475,\n",
              "       0.75757576, 0.76767677, 0.77777778, 0.78787879, 0.7979798 ,\n",
              "       0.80808081, 0.81818182, 0.82828283, 0.83838384, 0.84848485,\n",
              "       0.85858586, 0.86868687, 0.87878788, 0.88888889, 0.8989899 ,\n",
              "       0.90909091, 0.91919192, 0.92929293, 0.93939394, 0.94949495,\n",
              "       0.95959596, 0.96969697, 0.97979798, 0.98989899, 1.        ])"
            ]
          },
          "execution_count": 88,
          "metadata": {},
          "output_type": "execute_result"
        }
      ],
      "source": [
        "\n",
        "# Create an array of 10 equally spaced values from 0 to 1\n",
        "linspace_arr = murugan.linspace(0, 1, 100)\n",
        "linspace_arr\n"
      ]
    },
    {
      "cell_type": "code",
      "execution_count": 89,
      "metadata": {
        "colab": {
          "base_uri": "https://localhost:8080/"
        },
        "id": "qToGUbwzDdET",
        "outputId": "3e98dbd4-f553-42a6-e0a5-67be68bb39c4"
      },
      "outputs": [
        {
          "data": {
            "text/plain": [
              "array([ 1.        ,  1.04811313,  1.09854114,  1.1513954 ,  1.20679264,\n",
              "        1.26485522,  1.32571137,  1.38949549,  1.45634848,  1.52641797,\n",
              "        1.59985872,  1.67683294,  1.75751062,  1.84206997,  1.93069773,\n",
              "        2.02358965,  2.12095089,  2.22299648,  2.32995181,  2.44205309,\n",
              "        2.55954792,  2.6826958 ,  2.8117687 ,  2.9470517 ,  3.0888436 ,\n",
              "        3.23745754,  3.39322177,  3.55648031,  3.72759372,  3.90693994,\n",
              "        4.09491506,  4.29193426,  4.49843267,  4.71486636,  4.94171336,\n",
              "        5.17947468,  5.42867544,  5.68986603,  5.96362332,  6.25055193,\n",
              "        6.55128557,  6.86648845,  7.19685673,  7.54312006,  7.90604321,\n",
              "        8.28642773,  8.68511374,  9.10298178,  9.54095476, 10.        ])"
            ]
          },
          "execution_count": 89,
          "metadata": {},
          "output_type": "execute_result"
        }
      ],
      "source": [
        "\n",
        "# Create an array of 5 values spaced logarithmically from 1 to 100\n",
        "logspace_arr = murugan.logspace(0, 1, 50)\n",
        "logspace_arr"
      ]
    },
    {
      "cell_type": "code",
      "execution_count": 90,
      "metadata": {
        "colab": {
          "base_uri": "https://localhost:8080/"
        },
        "id": "tVsrrug7E6K0",
        "outputId": "c963dc1a-428c-4e13-ff41-3b2512fa7e20"
      },
      "outputs": [
        {
          "data": {
            "text/plain": [
              "array([ 0,  9, 18, 27, 36, 45, 54, 63, 72, 81, 90, 99])"
            ]
          },
          "execution_count": 90,
          "metadata": {},
          "output_type": "execute_result"
        }
      ],
      "source": [
        "\n",
        "# Create an array of values from 0 to 9 with a step size of 2\n",
        "arange_arr = murugan.arange(0, 100, 9)\n",
        "arange_arr"
      ]
    },
    {
      "cell_type": "code",
      "execution_count": 91,
      "metadata": {
        "colab": {
          "base_uri": "https://localhost:8080/"
        },
        "id": "CDko9-D0FU-p",
        "outputId": "75b684e4-af39-4a42-959c-cd4357d0a536"
      },
      "outputs": [
        {
          "data": {
            "text/plain": [
              "array([[[0., 0., 0., 0., 0.],\n",
              "        [0., 0., 0., 0., 0.],\n",
              "        [0., 0., 0., 0., 0.],\n",
              "        [0., 0., 0., 0., 0.],\n",
              "        [0., 0., 0., 0., 0.]],\n",
              "\n",
              "       [[0., 0., 0., 0., 0.],\n",
              "        [0., 0., 0., 0., 0.],\n",
              "        [0., 0., 0., 0., 0.],\n",
              "        [0., 0., 0., 0., 0.],\n",
              "        [0., 0., 0., 0., 0.]],\n",
              "\n",
              "       [[0., 0., 0., 0., 0.],\n",
              "        [0., 0., 0., 0., 0.],\n",
              "        [0., 0., 0., 0., 0.],\n",
              "        [0., 0., 0., 0., 0.],\n",
              "        [0., 0., 0., 0., 0.]],\n",
              "\n",
              "       [[0., 0., 0., 0., 0.],\n",
              "        [0., 0., 0., 0., 0.],\n",
              "        [0., 0., 0., 0., 0.],\n",
              "        [0., 0., 0., 0., 0.],\n",
              "        [0., 0., 0., 0., 0.]],\n",
              "\n",
              "       [[0., 0., 0., 0., 0.],\n",
              "        [0., 0., 0., 0., 0.],\n",
              "        [0., 0., 0., 0., 0.],\n",
              "        [0., 0., 0., 0., 0.],\n",
              "        [0., 0., 0., 0., 0.]]])"
            ]
          },
          "execution_count": 91,
          "metadata": {},
          "output_type": "execute_result"
        }
      ],
      "source": [
        "\n",
        "# Create a 3x3 array filled with zeros\n",
        "zeros_arr = murugan.zeros((5, 5, 5))\n",
        "zeros_arr"
      ]
    },
    {
      "cell_type": "code",
      "execution_count": 92,
      "metadata": {
        "colab": {
          "base_uri": "https://localhost:8080/"
        },
        "id": "PaBRJkcIFtlW",
        "outputId": "0e419cbd-8fe9-4e1c-e924-02035e33d7a9"
      },
      "outputs": [
        {
          "data": {
            "text/plain": [
              "array([[1., 1., 1., 1., 1., 1., 1., 1.],\n",
              "       [1., 1., 1., 1., 1., 1., 1., 1.],\n",
              "       [1., 1., 1., 1., 1., 1., 1., 1.],\n",
              "       [1., 1., 1., 1., 1., 1., 1., 1.],\n",
              "       [1., 1., 1., 1., 1., 1., 1., 1.]])"
            ]
          },
          "execution_count": 92,
          "metadata": {},
          "output_type": "execute_result"
        }
      ],
      "source": [
        "\n",
        "# Create a 2x4 array filled with ones\n",
        "ones_arr = murugan.ones((5, 8))\n",
        "ones_arr"
      ]
    },
    {
      "cell_type": "code",
      "execution_count": 93,
      "metadata": {
        "colab": {
          "base_uri": "https://localhost:8080/"
        },
        "id": "4DSxyI90F9rL",
        "outputId": "d25a9ad1-d4e6-4250-c0e7-e2bc8d3781d2"
      },
      "outputs": [
        {
          "name": "stdout",
          "output_type": "stream",
          "text": [
            "[0 0 0 0 0]\n"
          ]
        }
      ],
      "source": [
        "\n",
        "# Create a new array filled with zeros,\n",
        "# matching the shape and data type of the original array\n",
        "original_array = murugan.array([1, 2, 3,4,5], dtype=murugan.int32)\n",
        "zeros_array = murugan.zeros_like(original_array)\n",
        "arr = zeros_array\n",
        "\n",
        "print(arr)\n"
      ]
    },
    {
      "cell_type": "code",
      "execution_count": 94,
      "metadata": {
        "colab": {
          "base_uri": "https://localhost:8080/"
        },
        "id": "kKQFQP6RGr8b",
        "outputId": "155991f3-dc3f-42c2-8464-87123338a948"
      },
      "outputs": [
        {
          "name": "stdout",
          "output_type": "stream",
          "text": [
            "[1 1 1 1 1]\n"
          ]
        }
      ],
      "source": [
        "\n",
        "# Create a new array filled with ones,\n",
        "# matching the shape and data type of the original array\n",
        "original_array = murugan.array([1, 2, 3,4,5], dtype=murugan.int32)\n",
        "ones_array = murugan.ones_like(original_array)\n",
        "arr = ones_array\n",
        "\n",
        "print(arr)\n"
      ]
    },
    {
      "cell_type": "markdown",
      "metadata": {
        "id": "YN414GUxHSRE"
      },
      "source": [
        "\n",
        "**2-Array Inspection**"
      ]
    },
    {
      "cell_type": "markdown",
      "metadata": {
        "id": "qhmlj2GsHvWt"
      },
      "source": [
        "# Dimension and shaping"
      ]
    },
    {
      "cell_type": "code",
      "execution_count": 95,
      "metadata": {
        "colab": {
          "base_uri": "https://localhost:8080/"
        },
        "id": "WNkG4HfFHtDu",
        "outputId": "8b5ded8a-0f83-42b4-f779-a6d52144187a"
      },
      "outputs": [
        {
          "name": "stdout",
          "output_type": "stream",
          "text": [
            "Dimension: 1, shape: (12,), size: 12\n"
          ]
        }
      ],
      "source": [
        "\n",
        "# Corrected 1D array creation\n",
        "arr_1D = murugan.array([2, 4, 6, 8, 10, 11, 3, 6, 9, 12, 15, 18])\n",
        "\n",
        "# Dimension: 1, shape: (12,), size: 12\n",
        "print(f\"Dimension: {arr_1D.ndim}, shape: {arr_1D.shape}, size: {arr_1D.size}\")\n"
      ]
    },
    {
      "cell_type": "markdown",
      "metadata": {
        "id": "QrCRuIlPJNga"
      },
      "source": [
        "**Array Indexing and Slicing**"
      ]
    },
    {
      "cell_type": "code",
      "execution_count": 96,
      "metadata": {
        "colab": {
          "base_uri": "https://localhost:8080/"
        },
        "id": "87G2s7O5JXEu",
        "outputId": "d5759f09-c203-4f5e-f219-f6256362bc95"
      },
      "outputs": [
        {
          "name": "stdout",
          "output_type": "stream",
          "text": [
            "First element - 101\n",
            "Third element - 330\n",
            "Last element - 579\n"
          ]
        }
      ],
      "source": [
        "\n",
        "# Creating a NumPy array\n",
        "arr = murugan.array([101, 212, 330, 465, 579])\n",
        "# Accessing individual elements\n",
        "first_element = arr[0] # Access the first element (10)\n",
        "print(f'First element - {first_element}')\n",
        "third_element = arr[2] # Access the third element (30)\n",
        "print(f'Third element - {third_element}')\n",
        "# Accessing elements using negative indices\n",
        "last_element = arr[-1] # Access the last element (50)\n",
        "print(f'Last element - {last_element}')"
      ]
    },
    {
      "cell_type": "code",
      "execution_count": 97,
      "metadata": {
        "colab": {
          "base_uri": "https://localhost:8080/"
        },
        "id": "rPdi22rwJxKP",
        "outputId": "22017815-a5be-4310-d4ac-2de043ecdc5b"
      },
      "outputs": [
        {
          "data": {
            "text/plain": [
              "6"
            ]
          },
          "execution_count": 97,
          "metadata": {},
          "output_type": "execute_result"
        }
      ],
      "source": [
        "\n",
        "# Creating a 2D NumPy array\n",
        "arr_2d = murugan.array([[1, 2, 3], [4, 5, 6], [7, 8, 9]])\n",
        "# Slicing along rows and columns\n",
        "sliced_array = arr_2d[1,2] # Element at row 1, column 2 (value: 2)\n",
        "sliced_array"
      ]
    },
    {
      "cell_type": "code",
      "execution_count": 98,
      "metadata": {
        "colab": {
          "base_uri": "https://localhost:8080/"
        },
        "id": "gG0MGiUeKcak",
        "outputId": "bbf08829-d121-4744-c613-812d809bc981"
      },
      "outputs": [
        {
          "data": {
            "text/plain": [
              "array([212, 330, 465])"
            ]
          },
          "execution_count": 98,
          "metadata": {},
          "output_type": "execute_result"
        }
      ],
      "source": [
        "\n",
        "# Slicing the array to create a new array\n",
        "sliced_array = arr[1:4]\n",
        "sliced_array"
      ]
    },
    {
      "cell_type": "code",
      "execution_count": 99,
      "metadata": {
        "colab": {
          "base_uri": "https://localhost:8080/"
        },
        "id": "Rvl4NfLjK9yh",
        "outputId": "04d65368-d148-4edc-ca96-51a46518bd8c"
      },
      "outputs": [
        {
          "data": {
            "text/plain": [
              "array([101])"
            ]
          },
          "execution_count": 99,
          "metadata": {},
          "output_type": "execute_result"
        }
      ],
      "source": [
        "\n",
        "# Slicing with a step of 2\n",
        "sliced_array = arr[0::5]\n",
        "sliced_array"
      ]
    },
    {
      "cell_type": "code",
      "execution_count": 100,
      "metadata": {
        "colab": {
          "base_uri": "https://localhost:8080/"
        },
        "id": "G5ZEWhjhLtvx",
        "outputId": "53438dff-71ba-4020-8f87-674ad9774ae0"
      },
      "outputs": [
        {
          "data": {
            "text/plain": [
              "array([212, 330, 465, 579])"
            ]
          },
          "execution_count": 100,
          "metadata": {},
          "output_type": "execute_result"
        }
      ],
      "source": [
        "\n",
        "# Slicing with negative index\n",
        "second_to_last = arr[-4::]\n",
        "second_to_last"
      ]
    },
    {
      "cell_type": "code",
      "execution_count": 101,
      "metadata": {
        "colab": {
          "base_uri": "https://localhost:8080/"
        },
        "id": "hV-_1GHaMRvt",
        "outputId": "d3190a78-6bc6-429f-935f-4053c669778b"
      },
      "outputs": [
        {
          "data": {
            "text/plain": [
              "array([101, 212, 330, 465, 579])"
            ]
          },
          "execution_count": 101,
          "metadata": {},
          "output_type": "execute_result"
        }
      ],
      "source": [
        "\n",
        "# Conditional slicing: Select elements greater than 30\n",
        "sliced_array = arr[arr > 30]\n",
        "sliced_array"
      ]
    },
    {
      "cell_type": "code",
      "execution_count": 102,
      "metadata": {
        "colab": {
          "base_uri": "https://localhost:8080/"
        },
        "id": "0hwYK1PyMguV",
        "outputId": "f247259d-f01b-49a0-bad1-f69229ff70ac"
      },
      "outputs": [
        {
          "data": {
            "text/plain": [
              "array([[4, 5],\n",
              "       [7, 8]])"
            ]
          },
          "execution_count": 102,
          "metadata": {},
          "output_type": "execute_result"
        }
      ],
      "source": [
        "\n",
        "# Creating a 2D NumPy array\n",
        "arr_2d = murugan.array([[1, 2, 3], [4, 5, 6], [7, 8, 9]])\n",
        "# Slicing along rows and columns\n",
        "sliced_array = arr_2d[1:3, 0:2] # Slice a 2x2 subarray: [[4, 5], [7, 8]]\n",
        "sliced_array"
      ]
    },
    {
      "cell_type": "markdown",
      "metadata": {
        "id": "Rl3dcQ3NM1gn"
      },
      "source": [
        "**3-Array Operations 🎲**\n",
        "\n"
      ]
    },
    {
      "cell_type": "markdown",
      "metadata": {
        "id": "GJ7aXOS2NjDg"
      },
      "source": [
        " *Element Wise Operation*"
      ]
    },
    {
      "cell_type": "code",
      "execution_count": 103,
      "metadata": {
        "colab": {
          "base_uri": "https://localhost:8080/"
        },
        "id": "UgEbtuzpNqU2",
        "outputId": "12ca0535-5e92-447e-979f-1b80cca502c2"
      },
      "outputs": [
        {
          "data": {
            "text/plain": [
              "array([50, 79, 29])"
            ]
          },
          "execution_count": 103,
          "metadata": {},
          "output_type": "execute_result"
        }
      ],
      "source": [
        "\n",
        "# Creating 1D NumPy arrays\n",
        "arr1 = murugan.array([16, 25, 13])\n",
        "arr2 = murugan.array([34, 54, 16])\n",
        "scalar = 2\n",
        "# Addition\n",
        "result_add = arr1 + arr2\n",
        "result_add"
      ]
    },
    {
      "cell_type": "code",
      "execution_count": 104,
      "metadata": {
        "colab": {
          "base_uri": "https://localhost:8080/"
        },
        "id": "51EGvvXaOcS_",
        "outputId": "48916da5-4736-4040-cc0b-372f309bc58e"
      },
      "outputs": [
        {
          "data": {
            "text/plain": [
              "array([ 544, 1350,  208])"
            ]
          },
          "execution_count": 104,
          "metadata": {},
          "output_type": "execute_result"
        }
      ],
      "source": [
        "\n",
        "# Multiplication, Similarly subraction and division as well.\n",
        "result_mul = arr1 * arr2\n",
        "result_mul"
      ]
    },
    {
      "cell_type": "code",
      "execution_count": 105,
      "metadata": {
        "colab": {
          "base_uri": "https://localhost:8080/"
        },
        "id": "b6x3XCztOmqt",
        "outputId": "5416611a-8766-434b-903b-8c04e8ef1040"
      },
      "outputs": [
        {
          "name": "stdout",
          "output_type": "stream",
          "text": [
            "Element-wise multiplication:\n",
            "[[ 55 132 231]\n",
            " [ 28  40  54]]\n"
          ]
        }
      ],
      "source": [
        "\n",
        "# Creating 2D NumPy arrays\n",
        "matrix1 = murugan.array([[1, 2, 3], [4, 5, 6]])\n",
        "matrix2 = murugan.array([[55, 66, 77], [7, 8, 9]])\n",
        "# Element-wise multiplication\n",
        "result_mul = matrix1 * matrix2\n",
        "print(\"Element-wise multiplication:\")\n",
        "print(result_mul)\n"
      ]
    },
    {
      "cell_type": "code",
      "execution_count": 106,
      "metadata": {
        "colab": {
          "base_uri": "https://localhost:8080/"
        },
        "id": "mhSVqZUcPYH3",
        "outputId": "81f24fa9-4767-413c-c918-7612074f2a94"
      },
      "outputs": [
        {
          "name": "stdout",
          "output_type": "stream",
          "text": [
            "Actual Matrix Multiplication:\n",
            "[[ 418   50]\n",
            " [1012  122]]\n"
          ]
        }
      ],
      "source": [
        "\n",
        "# Creating 2D NumPy arrays\n",
        "matrix1 = murugan.array([[1, 2, 3], [4, 5, 6]])\n",
        "matrix2 = murugan.array([[55, 66, 77], [7, 8, 9]])\n",
        "# Transposing matrix2 to make shapes compatible for multiplication\n",
        "matrix2_transposed = matrix2.T\n",
        "# Actual Matrix Multiplication using np.dot\n",
        "matrix_multiplication = murugan.dot(matrix1, matrix2_transposed)\n",
        "print(\"Actual Matrix Multiplication:\")\n",
        "print(matrix_multiplication)"
      ]
    },
    {
      "cell_type": "code",
      "execution_count": 107,
      "metadata": {
        "colab": {
          "base_uri": "https://localhost:8080/"
        },
        "id": "5RHZTQTJRpco",
        "outputId": "e40e16af-a4c5-42b7-cd66-40bea48ebd07"
      },
      "outputs": [
        {
          "data": {
            "text/plain": [
              "array([32, 50, 26])"
            ]
          },
          "execution_count": 107,
          "metadata": {},
          "output_type": "execute_result"
        }
      ],
      "source": [
        "\n",
        "# Broadcasting: Multiply array by a scalar\n",
        "result = arr1 * scalar\n",
        "result"
      ]
    },
    {
      "cell_type": "markdown",
      "metadata": {
        "id": "U4FN9sWnSXGM"
      },
      "source": [
        "**Append and Delete**"
      ]
    },
    {
      "cell_type": "code",
      "execution_count": 108,
      "metadata": {
        "colab": {
          "base_uri": "https://localhost:8080/"
        },
        "id": "5fjJ8bTGSbMB",
        "outputId": "8c2463fa-ff75-4757-84d2-94c62874a6cf"
      },
      "outputs": [
        {
          "data": {
            "text/plain": [
              "array([1, 2, 3, 4, 5, 6])"
            ]
          },
          "execution_count": 108,
          "metadata": {},
          "output_type": "execute_result"
        }
      ],
      "source": [
        "\n",
        "# Create an array\n",
        "original_array = murugan.array([1, 2, 3])\n",
        "# Append elements in-place\n",
        "original_array = murugan.append(original_array, [4, 5, 6])\n",
        "original_array"
      ]
    },
    {
      "cell_type": "code",
      "execution_count": 109,
      "metadata": {
        "colab": {
          "base_uri": "https://localhost:8080/"
        },
        "id": "9SXhnsH7SveF",
        "outputId": "4b65b7d2-d3b7-4b06-f088-52c4cb3ce4ac"
      },
      "outputs": [
        {
          "data": {
            "text/plain": [
              "array([1, 2, 4, 5])"
            ]
          },
          "execution_count": 109,
          "metadata": {},
          "output_type": "execute_result"
        }
      ],
      "source": [
        "\n",
        "# Create a NumPy array\n",
        "arr = murugan.array([1, 2, 3, 4, 5])\n",
        "# Remove the item at index 2 (value 3)\n",
        "new_arr = murugan.delete(arr, 2)\n",
        "new_arr"
      ]
    },
    {
      "cell_type": "code",
      "execution_count": 110,
      "metadata": {
        "colab": {
          "base_uri": "https://localhost:8080/"
        },
        "id": "veQXcOVQTEmd",
        "outputId": "a5e7e90c-f1b5-4bfd-ecfc-ae8f0169d356"
      },
      "outputs": [
        {
          "data": {
            "text/plain": [
              "array([[1, 2, 3],\n",
              "       [7, 8, 9]])"
            ]
          },
          "execution_count": 110,
          "metadata": {},
          "output_type": "execute_result"
        }
      ],
      "source": [
        "\n",
        "# Create a 2D NumPy array\n",
        "arr = murugan.array([[1, 2, 3], [4,5, 6], [7, 8, 9]])\n",
        "# Remove the second row (index 1)\n",
        "new_arr = murugan.delete(arr, 1, axis=0)\n",
        "new_arr"
      ]
    },
    {
      "cell_type": "markdown",
      "metadata": {
        "id": "t7LJQKoXTfLB"
      },
      "source": [
        "**3.3 Aggregation Functions and ufuncs**"
      ]
    },
    {
      "cell_type": "code",
      "execution_count": 111,
      "metadata": {
        "colab": {
          "base_uri": "https://localhost:8080/"
        },
        "id": "WS3yQ8mzTidz",
        "outputId": "e21860e7-7667-472c-a1bb-308c82e0b698"
      },
      "outputs": [
        {
          "name": "stdout",
          "output_type": "stream",
          "text": [
            "3.0\n"
          ]
        }
      ],
      "source": [
        "\n",
        "# Creating a NumPy array\n",
        "arr = murugan.array([1, 2, 3, 4, 5])\n",
        "# Aggregation functions\n",
        "mean_value = murugan.mean(arr)\n",
        "print(mean_value)"
      ]
    },
    {
      "cell_type": "code",
      "execution_count": 112,
      "metadata": {
        "id": "u3HYFcsaUH_g"
      },
      "outputs": [],
      "source": [
        "\n",
        "median_value = murugan.median(arr)\n",
        "variance = murugan.var(arr)\n",
        "standard_deviation = murugan.std(arr)\n",
        "sum_value = murugan.sum(arr)\n",
        "min_value = murugan.min(arr)\n",
        "max_value = murugan.max(arr)"
      ]
    },
    {
      "cell_type": "code",
      "execution_count": 113,
      "metadata": {
        "colab": {
          "base_uri": "https://localhost:8080/"
        },
        "id": "_Zwj4E3Nse7R",
        "outputId": "0c9aa8b6-dc4f-4f48-d95a-2dbfea6ed32e"
      },
      "outputs": [
        {
          "name": "stdout",
          "output_type": "stream",
          "text": [
            "square root - [1.         1.41421356 1.73205081 2.         2.23606798]\n",
            "exponential array - [  2.71828183   7.3890561   20.08553692  54.59815003 148.4131591 ]\n"
          ]
        }
      ],
      "source": [
        "\n",
        "# Universal functions\n",
        "\n",
        "sqrt_arr = murugan.sqrt(arr) # Square Root\n",
        "print(f'square root - {sqrt_arr}')\n",
        "exp_arr = murugan.exp(arr) # Exponential\n",
        "print(f'exponential array - {exp_arr}')\n"
      ]
    },
    {
      "cell_type": "markdown",
      "metadata": {
        "id": "OPGwTb0TtFnG"
      },
      "source": [
        "# Replcing Arrays"
      ]
    },
    {
      "cell_type": "code",
      "execution_count": 114,
      "metadata": {
        "colab": {
          "base_uri": "https://localhost:8080/"
        },
        "id": "UPOMHeq5tJR0",
        "outputId": "ca082578-3d50-4cf9-d103-1d2a82158ef4"
      },
      "outputs": [
        {
          "data": {
            "text/plain": [
              "array([1, 2, 3, 4, 5, 6])"
            ]
          },
          "execution_count": 114,
          "metadata": {},
          "output_type": "execute_result"
        }
      ],
      "source": [
        "\n",
        " # Creating 2D array\n",
        "\n",
        "arr_2d = murugan.array([[1, 2, 3], [4, 5, 6]])\n",
        "# Here as we are passing only 6, it will conver the 2d array to a 1d array\n",
        "# with 6 elements, you cannot pass anything other than 6,\n",
        "# as it doesn't match the original array!\n",
        "arr_1d = arr_2d.reshape(6)\n",
        "arr_1d"
      ]
    },
    {
      "cell_type": "code",
      "execution_count": 115,
      "metadata": {
        "colab": {
          "base_uri": "https://localhost:8080/"
        },
        "id": "nc87k1s7tSNw",
        "outputId": "82168a42-ed67-4aaa-cb3d-d6f6ba09add7"
      },
      "outputs": [
        {
          "data": {
            "text/plain": [
              "array([[1, 2, 3],\n",
              "       [4, 5, 6]])"
            ]
          },
          "execution_count": 115,
          "metadata": {},
          "output_type": "execute_result"
        }
      ],
      "source": [
        "\n",
        "# Creating 1D array\n",
        "arr_1d = murugan.array([1, 2, 3, 4, 5, 6])\n",
        "# converting 1D array to 2D\n",
        "arr_2d = arr_1d.reshape(2, 3)\n",
        "arr_2d"
      ]
    },
    {
      "cell_type": "code",
      "execution_count": 116,
      "metadata": {
        "colab": {
          "base_uri": "https://localhost:8080/"
        },
        "id": "b4lHEG9StnW-",
        "outputId": "b00edaba-52a3-4f7c-b838-bbdf67f4f74c"
      },
      "outputs": [
        {
          "name": "stdout",
          "output_type": "stream",
          "text": [
            "Original Image Shape: (303, 384)\n",
            "Reshapped array: (116352,)\n"
          ]
        }
      ],
      "source": [
        "\n",
        "from skimage import data\n",
        "# Load a sample grayscale image\n",
        "image = data.coins()\n",
        "# Original shape of the image\n",
        "print(\"Original Image Shape:\", image.shape) # Original Image Shape: (303, 384)\n",
        "# So, if you want to convert it to 1D, you have to pass 116352 (303*384)\n",
        "# Instead, if you don't want to calculate that and let numpy deal with it,\n",
        "# IN such cases, you can just pass -1, and it will calculate 116352\n",
        "reshaped_image = image.reshape(-1)\n",
        "print(\"Reshapped array:\", reshaped_image.shape)"
      ]
    },
    {
      "cell_type": "markdown",
      "metadata": {
        "id": "QnuYd9b4t7F1"
      },
      "source": [
        "**4 . Working with numpy Arrays**"
      ]
    },
    {
      "cell_type": "markdown",
      "metadata": {
        "id": "rKQEV_hOuB-S"
      },
      "source": [
        "# Combining Arrays"
      ]
    },
    {
      "cell_type": "code",
      "execution_count": 117,
      "metadata": {
        "colab": {
          "base_uri": "https://localhost:8080/"
        },
        "id": "bGwA4sq3uABB",
        "outputId": "37f1d27a-5c0f-4b7a-fdde-1265025f6d02"
      },
      "outputs": [
        {
          "data": {
            "text/plain": [
              "array([1, 2, 3, 4, 5, 6])"
            ]
          },
          "execution_count": 117,
          "metadata": {},
          "output_type": "execute_result"
        }
      ],
      "source": [
        "\n",
        "arr1 = murugan.array([1, 2, 3])\n",
        "arr2 = murugan.array([4, 5, 6])\n",
        "# Concatenate along the 0-axis (rows)\n",
        "combined = murugan.concatenate((arr1, arr2)) # Result: [1, 2, 3, 4, 5, 6]\n",
        "combined"
      ]
    },
    {
      "cell_type": "code",
      "execution_count": 118,
      "metadata": {
        "colab": {
          "base_uri": "https://localhost:8080/"
        },
        "id": "iIQJC0XnuQmK",
        "outputId": "d5cb0ea4-dbd9-486f-d6de-aa1685e8722e"
      },
      "outputs": [
        {
          "data": {
            "text/plain": [
              "array([[1, 2, 3],\n",
              "       [4, 5, 6]])"
            ]
          },
          "execution_count": 118,
          "metadata": {},
          "output_type": "execute_result"
        }
      ],
      "source": [
        "\n",
        "# Vertical stacking\n",
        "\n",
        "vertical_stack = murugan.vstack((arr1, arr2)) # Result: [[1, 2, 3], [4, 5, 6]]\n",
        "vertical_stack"
      ]
    },
    {
      "cell_type": "code",
      "execution_count": 119,
      "metadata": {
        "colab": {
          "base_uri": "https://localhost:8080/"
        },
        "id": "lMjgTmKXuWw2",
        "outputId": "408794bf-d561-4ea8-b5e7-e4bd611b25cf"
      },
      "outputs": [
        {
          "data": {
            "text/plain": [
              "array([1, 2, 3, 4, 5, 6])"
            ]
          },
          "execution_count": 119,
          "metadata": {},
          "output_type": "execute_result"
        }
      ],
      "source": [
        "\n",
        "# Horizontal stacking\n",
        "\n",
        "horizontal_stack = murugan.hstack((arr1, arr2)) # Result: [1, 2, 3, 4, 5, 6]\n",
        "horizontal_stack"
      ]
    },
    {
      "cell_type": "markdown",
      "metadata": {
        "id": "He4F0jSRuavU"
      },
      "source": [
        "# Splitting Arrays"
      ]
    },
    {
      "cell_type": "code",
      "execution_count": 120,
      "metadata": {
        "colab": {
          "base_uri": "https://localhost:8080/"
        },
        "id": "H8bPspH6udhi",
        "outputId": "bc7ad612-cc89-4591-fde4-481bf3afdf46"
      },
      "outputs": [
        {
          "data": {
            "text/plain": [
              "[array([1, 2]), array([3, 4]), array([5, 6])]"
            ]
          },
          "execution_count": 120,
          "metadata": {},
          "output_type": "execute_result"
        }
      ],
      "source": [
        "\n",
        "\n",
        "arr = murugan.array([1, 2, 3, 4, 5, 6])\n",
        "# Split into three equal parts\n",
        "split_arr = murugan.split(arr, 3)\n",
        "split_arr\n",
        "# Result: [array([1, 2]), array([3, 4]), array([5, 6])]."
      ]
    },
    {
      "cell_type": "code",
      "execution_count": 121,
      "metadata": {
        "colab": {
          "base_uri": "https://localhost:8080/"
        },
        "id": "Iq0QW2GUuuYE",
        "outputId": "0af955d7-0249-4205-dffb-9a5da8969e52"
      },
      "outputs": [
        {
          "data": {
            "text/plain": [
              "array([10,  2,  3])"
            ]
          },
          "execution_count": 121,
          "metadata": {},
          "output_type": "execute_result"
        }
      ],
      "source": [
        "\n",
        "\n",
        "original_arr = murugan.array([1, 2, 3])\n",
        "\n",
        "# alias of original array\n",
        "alias_arr = original_arr\n",
        "# chaing a value in alias array\n",
        "alias_arr[0]=10\n",
        "# you can observe that it will also change the original array\n",
        "original_arr"
      ]
    },
    {
      "cell_type": "code",
      "execution_count": 122,
      "metadata": {
        "colab": {
          "base_uri": "https://localhost:8080/"
        },
        "id": "tkVFnrUxuzoF",
        "outputId": "3efa0656-329b-45df-f454-dad3e5e62642"
      },
      "outputs": [
        {
          "name": "stdout",
          "output_type": "stream",
          "text": [
            "[99  2  3]\n"
          ]
        }
      ],
      "source": [
        "\n",
        "original_arr = murugan.array([1, 2, 3])\n",
        "\n",
        "# Changes to view_arr will affect the original array\n",
        "view_arr = original_arr.view()\n",
        "# Modify an element in the view\n",
        "view_arr[0] = 99\n",
        "# Check the original array\n",
        "print(original_arr)"
      ]
    },
    {
      "cell_type": "code",
      "execution_count": 123,
      "metadata": {
        "colab": {
          "base_uri": "https://localhost:8080/"
        },
        "id": "-yVOxSodu4p8",
        "outputId": "34866f97-92ca-4b55-8034-674e27b7c08c"
      },
      "outputs": [
        {
          "name": "stdout",
          "output_type": "stream",
          "text": [
            "[1 2 3]\n"
          ]
        }
      ],
      "source": [
        "\n",
        "original_arr = murugan.array([1, 2, 3])\n",
        "\n",
        "# Changes to copy_arr won't affect the original array\n",
        "copy_arr = original_arr.copy()\n",
        "copy_arr[0] = 100\n",
        "# Copy doesn't change the original array\n",
        "print(original_arr)"
      ]
    },
    {
      "cell_type": "markdown",
      "metadata": {
        "id": "EcLAzrDVu9p_"
      },
      "source": [
        "**Sorting Numpy Arrays**"
      ]
    },
    {
      "cell_type": "code",
      "execution_count": 124,
      "metadata": {
        "colab": {
          "base_uri": "https://localhost:8080/"
        },
        "id": "tgS85xjjvBEK",
        "outputId": "ed518d43-f625-4ebf-cb52-86fe70c689a8"
      },
      "outputs": [
        {
          "name": "stdout",
          "output_type": "stream",
          "text": [
            "Ascending sort [1 2 3 4 5]\n",
            "Descending sort [5 4 3 2 1]\n",
            "Sorted Indices [1 3 0 4 2]\n"
          ]
        }
      ],
      "source": [
        "\n",
        "data = murugan.array([3, 1, 5, 2, 4])\n",
        "\n",
        "sorted_data = murugan.sort(data) # Ascending order\n",
        "print(\"Ascending sort\", sorted_data)\n",
        "reverse_sorted_data = murugan.sort(data)[::-1] # Descending order\n",
        "print(\"Descending sort\", reverse_sorted_data)\n",
        "# Returns Indices that would sort the array.\n",
        "sorted_indices = murugan.argsort(data)\n",
        "print(\"Sorted Indices\", sorted_indices)"
      ]
    },
    {
      "cell_type": "markdown",
      "metadata": {
        "id": "2Z0TKInavPAF"
      },
      "source": [
        "**5-Numpy for Data Cleaning**"
      ]
    },
    {
      "cell_type": "markdown",
      "metadata": {
        "id": "L00j7TeKvTHq"
      },
      "source": [
        "# Identify Missing Values"
      ]
    },
    {
      "cell_type": "markdown",
      "metadata": {
        "id": "Bpke7r7YvddE"
      },
      "source": []
    },
    {
      "cell_type": "code",
      "execution_count": 125,
      "metadata": {
        "colab": {
          "base_uri": "https://localhost:8080/"
        },
        "id": "tl0hYAmSveUw",
        "outputId": "853e479f-fe8b-46eb-eb13-526279b147b6"
      },
      "outputs": [
        {
          "name": "stdout",
          "output_type": "stream",
          "text": [
            "[False False  True False  True False]\n"
          ]
        }
      ],
      "source": [
        "\n",
        "# Create a NumPy array with missing values\n",
        "data = murugan.array([1, 2, murugan.nan, 4, murugan.nan, 6])\n",
        "# Check for missing values\n",
        "has_missing = murugan.isnan(data)\n",
        "print(has_missing)"
      ]
    },
    {
      "cell_type": "markdown",
      "metadata": {
        "id": "SXqFCohzvpWr"
      },
      "source": [
        "**Removing rows or columns with Missing Values**"
      ]
    },
    {
      "cell_type": "code",
      "execution_count": 126,
      "metadata": {
        "colab": {
          "base_uri": "https://localhost:8080/"
        },
        "id": "gSlDkfNbvzva",
        "outputId": "c7b60049-a9bf-4b44-e638-b16a0b36cdbf"
      },
      "outputs": [
        {
          "name": "stdout",
          "output_type": "stream",
          "text": [
            "[[1. 2. 3.]\n",
            " [7. 8. 9.]]\n"
          ]
        }
      ],
      "source": [
        "\n",
        "# Create a 2D array with missing values\n",
        "data = murugan.array([[1, 2, 3], [4, murugan.nan, 6], [7, 8, 9]])\n",
        "# Remove rows with any missing values\n",
        "cleaned_data = data[~murugan.any(murugan.isnan(data), axis=1)]\n",
        "print(cleaned_data) # Result: [[1,2,3],[7,8,9]]"
      ]
    },
    {
      "cell_type": "markdown",
      "metadata": {
        "id": "GY7whl0rv-IN"
      },
      "source": [
        "**6-Numpy for Statistical Analysis**"
      ]
    },
    {
      "cell_type": "markdown",
      "metadata": {
        "id": "3mTwYBsywBbg"
      },
      "source": [
        "# Data Transformation\n",
        "\n",
        "\n",
        "\n"
      ]
    },
    {
      "cell_type": "code",
      "execution_count": 127,
      "metadata": {
        "colab": {
          "base_uri": "https://localhost:8080/"
        },
        "id": "W0tfduypwHaq",
        "outputId": "2462ca2f-6446-4348-d393-2263dcd55f5c"
      },
      "outputs": [
        {
          "name": "stdout",
          "output_type": "stream",
          "text": [
            "Centered data =  [-20. -10.   0.  10.  20.]\n",
            "standardized data =  [-1.41421356 -0.70710678  0.          0.70710678  1.41421356]\n",
            "log_transformed_data =  [2.30258509 2.99573227 3.40119738 3.68887945 3.91202301]\n"
          ]
        }
      ],
      "source": [
        "\n",
        "# Data Centering\n",
        "data = murugan.array([10, 20, 30, 40, 50])\n",
        "mean = murugan.mean(data)\n",
        "centered_data = data - mean\n",
        "print('Centered data = ',centered_data)\n",
        "# Standardization\n",
        "std_dev = murugan.std(data)\n",
        "standardized_data = (data - mean) / std_dev\n",
        "print(\"standardized data = \",standardized_data)\n",
        "# Log Transformation\n",
        "log_transformed_data = murugan.log(data)\n",
        "print(\"log_transformed_data = \",log_transformed_data)"
      ]
    },
    {
      "cell_type": "markdown",
      "metadata": {
        "id": "PGZgTArnwRld"
      },
      "source": [
        "# Random Sampling and Generation"
      ]
    },
    {
      "cell_type": "code",
      "execution_count": 128,
      "metadata": {
        "colab": {
          "base_uri": "https://localhost:8080/"
        },
        "id": "FUVLqG9cwWM-",
        "outputId": "8d170c8b-5510-4257-ccc1-d05d182c0dee"
      },
      "outputs": [
        {
          "data": {
            "text/plain": [
              "array([ 3,  1,  9,  8, 10])"
            ]
          },
          "execution_count": 128,
          "metadata": {},
          "output_type": "execute_result"
        }
      ],
      "source": [
        "\n",
        "\n",
        "# Simple Random Sampling Without replacement\n",
        "data = murugan.array([1, 2, 3, 4, 5, 6, 7, 8, 9, 10])\n",
        "random_samples = murugan.random.choice(data, size=5, replace=False)\n",
        "random_samples"
      ]
    },
    {
      "cell_type": "code",
      "execution_count": 129,
      "metadata": {
        "colab": {
          "base_uri": "https://localhost:8080/"
        },
        "id": "jKQc-pi9wccf",
        "outputId": "da60c8f1-8393-4b08-9700-8310ca2e31a6"
      },
      "outputs": [
        {
          "data": {
            "text/plain": [
              "array([[ 5,  2,  9, ...,  5,  4,  6],\n",
              "       [ 8,  8,  9, ..., 10,  3,  7],\n",
              "       [ 9, 10,  5, ...,  3,  1,  6],\n",
              "       ...,\n",
              "       [ 9,  1,  6, ...,  9, 10,  1],\n",
              "       [ 2,  1,  8, ...,  4,  1,  9],\n",
              "       [ 6,  6,  5, ...,  6,  1,  2]])"
            ]
          },
          "execution_count": 129,
          "metadata": {},
          "output_type": "execute_result"
        }
      ],
      "source": [
        "\n",
        "# Bootstrap Sampling\n",
        "num_samples = 1000\n",
        "bootstrap_samples = murugan.random.choice(data, size=(num_samples, len(data)), replace=True)\n",
        "bootstrap_samples"
      ]
    },
    {
      "cell_type": "markdown",
      "metadata": {
        "id": "FYBXX8DMw3SK"
      },
      "source": [
        "*Generation*"
      ]
    },
    {
      "cell_type": "code",
      "execution_count": 130,
      "metadata": {
        "colab": {
          "base_uri": "https://localhost:8080/"
        },
        "id": "pEyOYYqTw8OB",
        "outputId": "f6f95919-8151-4d7d-855f-539fa2b1899d"
      },
      "outputs": [
        {
          "data": {
            "text/plain": [
              "85"
            ]
          },
          "execution_count": 130,
          "metadata": {},
          "output_type": "execute_result"
        }
      ],
      "source": [
        "\n",
        "murugan.random.randint(0,100)"
      ]
    },
    {
      "cell_type": "code",
      "execution_count": 131,
      "metadata": {
        "colab": {
          "base_uri": "https://localhost:8080/"
        },
        "id": "CNRyRxshxGZy",
        "outputId": "97246944-c061-4a10-bc2d-eb830189cd78"
      },
      "outputs": [
        {
          "name": "stdout",
          "output_type": "stream",
          "text": [
            "[ 1.07991929  1.53890167 -1.18390526  0.09302732 -2.06655575]\n"
          ]
        }
      ],
      "source": [
        "\n",
        "# Generates 5 random values from a standard normal distribution\n",
        "\n",
        "mean = 0\n",
        "std_dev = 1\n",
        "normal_values = murugan.random.normal(mean, std_dev, 5)\n",
        "print(normal_values)"
      ]
    },
    {
      "cell_type": "code",
      "execution_count": 132,
      "metadata": {
        "colab": {
          "base_uri": "https://localhost:8080/"
        },
        "id": "yH1nduw2xLRp",
        "outputId": "6fb5af7d-ede0-410b-92b4-9ea7c0a3f695"
      },
      "outputs": [
        {
          "name": "stdout",
          "output_type": "stream",
          "text": [
            "[4 5 4 5 5]\n"
          ]
        }
      ],
      "source": [
        "\n",
        "# Simulates 5 sets of 10 trials with a success probability of 0.5\n",
        "\n",
        "n_trials = 10\n",
        "probability = 0.5\n",
        "binomial_values = murugan.random.binomial(n_trials, probability, 5)\n",
        "print(binomial_values)"
      ]
    },
    {
      "cell_type": "code",
      "execution_count": 133,
      "metadata": {
        "colab": {
          "base_uri": "https://localhost:8080/"
        },
        "id": "6zh1z56txSHk",
        "outputId": "921001f0-ca24-48d3-9318-2df879b42571"
      },
      "outputs": [
        {
          "name": "stdout",
          "output_type": "stream",
          "text": [
            "[3 3 0 1 6]\n"
          ]
        }
      ],
      "source": [
        "\n",
        " # Generates 5 random values following a Poisson distribution with a rate of 2.5\n",
        "\n",
        "rate = 2.5\n",
        "poisson_values = murugan.random.poisson(rate, 5)\n",
        "print(poisson_values)"
      ]
    },
    {
      "cell_type": "code",
      "execution_count": 134,
      "metadata": {
        "colab": {
          "base_uri": "https://localhost:8080/"
        },
        "id": "Sb7VU-73xY8x",
        "outputId": "11993cdb-7e0d-4a72-d164-da18f6c0ae05"
      },
      "outputs": [
        {
          "name": "stdout",
          "output_type": "stream",
          "text": [
            "[0.01190532 0.07220141 0.18054203 0.17538111 0.28290262]\n"
          ]
        }
      ],
      "source": [
        "\n",
        "# Generates 5 random values following an exponential distribution with a scale\n",
        "\n",
        "scale_parameter = 0.5\n",
        "exponential_values = murugan.random.exponential(scale_parameter, 5)\n",
        "print(exponential_values)"
      ]
    },
    {
      "cell_type": "code",
      "execution_count": 135,
      "metadata": {
        "colab": {
          "base_uri": "https://localhost:8080/"
        },
        "id": "f4ls0oLrxixP",
        "outputId": "bc49e79e-bb0b-47fc-fb26-cd885cf762c0"
      },
      "outputs": [
        {
          "name": "stdout",
          "output_type": "stream",
          "text": [
            "[1.60003334 0.5283503  0.70483087 0.9186408  1.52700595]\n"
          ]
        }
      ],
      "source": [
        "\n",
        "# Generates 5 random values following a log-normal distribution\n",
        "\n",
        "mean_of_log = 0\n",
        "std_dev_of_log = 0.5\n",
        "lognormal_values = murugan.random.lognormal(mean_of_log, std_dev_of_log, 5)\n",
        "print(lognormal_values)"
      ]
    },
    {
      "cell_type": "code",
      "execution_count": 136,
      "metadata": {
        "colab": {
          "base_uri": "https://localhost:8080/"
        },
        "id": "WvaUdtb5xpNA",
        "outputId": "b32a11e3-330f-40a0-b844-8ea76eb81c83"
      },
      "outputs": [
        {
          "name": "stdout",
          "output_type": "stream",
          "text": [
            "[[1 1 8]\n",
            " [4 2 4]\n",
            " [2 4 4]\n",
            " [3 1 6]\n",
            " [3 1 6]]\n"
          ]
        }
      ],
      "source": [
        "\n",
        "# Simulates 5 sets of 10 multinomial trials with the given probabilities\n",
        "\n",
        "n_trials = 10\n",
        "probabilities = [0.2, 0.3, 0.5] # Probabilities of each outcome\n",
        "multinomial_values = murugan.random.multinomial(n_trials, probabilities, 5)\n",
        "print(multinomial_values)"
      ]
    },
    {
      "cell_type": "markdown",
      "metadata": {
        "id": "EDYPz_-ixwMX"
      },
      "source": [
        "**7-Numpy for Linear Algebra**"
      ]
    },
    {
      "cell_type": "markdown",
      "metadata": {
        "id": "ezyvC3q7xzAS"
      },
      "source": [
        "# Complex Matrix Operations"
      ]
    },
    {
      "cell_type": "code",
      "execution_count": 137,
      "metadata": {
        "colab": {
          "base_uri": "https://localhost:8080/"
        },
        "id": "3s8NUSJ1x2O7",
        "outputId": "64e3a772-b8ed-464e-b196-3a209fad0d18"
      },
      "outputs": [
        {
          "name": "stdout",
          "output_type": "stream",
          "text": [
            "[[-2.   1. ]\n",
            " [ 1.5 -0.5]]\n"
          ]
        }
      ],
      "source": [
        "\n",
        "A = murugan.array([[1, 2], [3, 4]])\n",
        "# Calculate the inverse of A\n",
        "A_inv = murugan.linalg.inv(A)\n",
        "print(A_inv)"
      ]
    },
    {
      "cell_type": "code",
      "execution_count": 138,
      "metadata": {
        "colab": {
          "base_uri": "https://localhost:8080/"
        },
        "id": "A0JyfIOux8Bw",
        "outputId": "bcc21fb1-71ba-4cc4-f673-8667f70e822a"
      },
      "outputs": [
        {
          "name": "stdout",
          "output_type": "stream",
          "text": [
            "eigenvalues: [1.5+0.8660254j 1.5-0.8660254j]\n",
            "eigenvectors: [[0.35355339+0.61237244j 0.35355339-0.61237244j]\n",
            " [0.70710678+0.j         0.70710678-0.j        ]]\n"
          ]
        }
      ],
      "source": [
        "\n",
        "A = murugan.array([[2, -1], [1, 1]])\n",
        "# Compute eigenvalues and eigenvectors\n",
        "eigenvalues, eigenvectors = murugan.linalg.eig(A)\n",
        "print(\"eigenvalues:\",eigenvalues)\n",
        "print(\"eigenvectors:\",eigenvectors)"
      ]
    },
    {
      "cell_type": "code",
      "execution_count": 139,
      "metadata": {
        "id": "LeUo6MRUyG1g"
      },
      "outputs": [],
      "source": [
        "\n",
        "A = murugan.array([[1, 2], [3, 4], [5, 6]])\n",
        "# Compute the Singular Value Decomposition (SVD)\n",
        "U, S, VT = murugan.linalg.svd(A)"
      ]
    },
    {
      "cell_type": "markdown",
      "metadata": {
        "id": "oUDqmzNxyN_F"
      },
      "source": [
        "# Solve Linear Equations"
      ]
    },
    {
      "cell_type": "code",
      "execution_count": 140,
      "metadata": {
        "colab": {
          "base_uri": "https://localhost:8080/"
        },
        "id": "DRfd03PoyVf3",
        "outputId": "54a0cae7-aeae-4969-9895-79d3bbc44338"
      },
      "outputs": [
        {
          "name": "stdout",
          "output_type": "stream",
          "text": [
            "[-4.5  5. ]\n"
          ]
        }
      ],
      "source": [
        "\n",
        "A = murugan.array([[2, 3], [4, 5]])\n",
        "\n",
        "b = murugan.array([6, 7])\n",
        "# Solve Ax = b for x\n",
        "x = murugan.linalg.solve(A, b)\n",
        "print(x)"
      ]
    },
    {
      "cell_type": "markdown",
      "metadata": {
        "id": "63auU2RWyjWc"
      },
      "source": [
        "**8-Advanced Numpy Techniques**"
      ]
    },
    {
      "cell_type": "markdown",
      "metadata": {
        "id": "L1AA4oM9ymNP"
      },
      "source": [
        "# Masked Arrays\n",
        "\n"
      ]
    },
    {
      "cell_type": "code",
      "execution_count": 141,
      "metadata": {
        "colab": {
          "base_uri": "https://localhost:8080/"
        },
        "id": "Tr9JXczkytle",
        "outputId": "13cb26c7-3a94-43bf-bc57-dd4b71ca1d7a"
      },
      "outputs": [
        {
          "name": "stdout",
          "output_type": "stream",
          "text": [
            "Mean Temperature (without handling missing values): -316.14444444444445\n",
            "Mean Temperature (excluding missing values): 25.28333333333333\n"
          ]
        }
      ],
      "source": [
        "\n",
        "import numpy.ma as ma\n",
        "\n",
        "# Temperature dataset with missing values (-999 represents missing values)\n",
        "temperatures = murugan.array([22.5, 23.0, -999, 24.5, -999, 26.0, 27.2, -999, 28.5])\n",
        "# Calculate the mean temperature without handling missing values\n",
        "mean_temperature = murugan.mean(temperatures)\n",
        "# Print the result = -316.14\n",
        "print(\"Mean Temperature (without handling missing values):\", mean_temperature)\n",
        "\n",
        "# Create a mask for missing values (-999)\n",
        "mask = (temperatures == -999)\n",
        "# Create a masked array\n",
        "masked_temperatures = ma.masked_array(temperatures, mask=mask)\n",
        "# Calculate the mean temperature (excluding missing values)\n",
        "mean_temperature = ma.mean(masked_temperatures)\n",
        "# Print the result = 25.28\n",
        "print(\"Mean Temperature (excluding missing values):\", mean_temperature)"
      ]
    },
    {
      "cell_type": "markdown",
      "metadata": {
        "id": "ZDqht8iiy2aU"
      },
      "source": [
        "# Structured Arrays"
      ]
    },
    {
      "cell_type": "code",
      "execution_count": 142,
      "metadata": {
        "colab": {
          "base_uri": "https://localhost:8080/"
        },
        "id": "mRpjtieEy7Th",
        "outputId": "103c8fe7-dc0c-408e-f125-a1422b59a606"
      },
      "outputs": [
        {
          "name": "stdout",
          "output_type": "stream",
          "text": [
            "b'Alice'\n",
            "[30 25]\n"
          ]
        }
      ],
      "source": [
        "\n",
        "\n",
        "# Define data types for fields\n",
        "\n",
        "dt = murugan.dtype([('name', 'S20'), ('age', int), ('salary', float)])\n",
        "# Create a structured array\n",
        "employees = murugan.array([('Alice', 30, 50000.0), ('Bob', 25, 60000.0)], dtype=dt)\n",
        "# Access the 'name' field of the first employee\n",
        "print(employees['name'][0])\n",
        "# Access the 'age' field of all employees\n",
        "print(employees['age'])"
      ]
    }
  ],
  "metadata": {
    "colab": {
      "provenance": []
    },
    "kernelspec": {
      "display_name": "Python 3",
      "name": "python3"
    },
    "language_info": {
      "name": "python"
    }
  },
  "nbformat": 4,
  "nbformat_minor": 0
}
